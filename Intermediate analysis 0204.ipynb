{
 "cells": [
  {
   "cell_type": "code",
   "execution_count": 1,
   "id": "b70b3516",
   "metadata": {},
   "outputs": [
    {
     "name": "stdout",
     "output_type": "stream",
     "text": [
      "High quality seqs r1: 1793335\n",
      "Unique high quality seqs r1: 1658322\n",
      "High quality seqs r2: 1824368\n",
      "Unique high quality seqs r2: 1617437\n",
      "High quality seqs r3: 1238531\n",
      "Unique high quality seqs r3: 301725\n",
      "High quality seqs r4: 1959238\n",
      "Unique high quality seqs r4: 136149\n",
      "High quality seqs r5: 1553726\n",
      "Unique high quality seqs r5: 115878\n",
      "High quality seqs r6: 1515844\n",
      "Unique high quality seqs r6: 126708\n"
     ]
    }
   ],
   "source": [
    "import matplotlib.pyplot as plt\n",
    "quality_cutoff = 0.9\n",
    "\n",
    "#Upload raw seqs\n",
    "raw_seqs = []\n",
    "for round in range(1,7):\n",
    "    raw_seqs.append(open('/Users/zoeweiss/Desktop/Desktop/lab(s)/szostak/spring 2022/ppp landscape/seqs/ppp-'+str(round)+'_S'+str(round)+'_L001_R2_001.fastq').readlines())\n",
    "\n",
    "\n",
    "#Filter by quality\n",
    "all_high_quality = []\n",
    "unique_high_quality = []\n",
    "for round in raw_seqs:\n",
    "    high_quality = []\n",
    "    seqs = round[1::4]\n",
    "    qualities = round[3::4]\n",
    "    acceptable_quals_1_percent_error = [5,6,7,8,9,':',';', '<', '=', '>', '?', '@', 'A', 'B', 'C', 'D', 'E', 'F', 'G', 'H', 'I', 'J', 'K']\n",
    "    for seq in range(len(qualities)):\n",
    "        overlap=0\n",
    "        for char in list(set(qualities[seq]).intersection(acceptable_quals_1_percent_error)):\n",
    "            overlap+=qualities[seq].count(char)\n",
    "        if overlap/len(qualities[1])>quality_cutoff:\n",
    "            high_quality.append(seqs[seq].strip(\"\\n\"))\n",
    "    print('High quality seqs r'+str(1+raw_seqs.index(round))+': '+str(len(high_quality)))\n",
    "    all_high_quality.append(high_quality)\n",
    "    unique_high_quality.append(list(set(high_quality)))\n",
    "    print('Unique high quality seqs r'+str(1+raw_seqs.index(round))+': '+str(len(list(set(high_quality)))))\n",
    "    \n",
    "#Trim seqs to randomized region\n",
    "all_trimmed_seqs = []\n",
    "all_unique_trimmed_seqs = []\n",
    "round = 1\n",
    "for round in range(len(all_high_quality)):\n",
    "    trimmed_seqs = []\n",
    "    for seq in all_high_quality[round]:\n",
    "        if 'ACTCACTGACACAGATCCACTCACGGACAGCG' in seq and 'CGCTGTCC' in seq:\n",
    "            if len(seq[len('ACTCACTGACACAGATCCACTCACGGACAGCG')+seq.index('ACTCACTGACACAGATCCACTCACGGACAGCG'):seq.index('CGCTGTCC')]) == 40:\n",
    "                trimmed_seqs.append(seq[len('ACTCACTGACACAGATCCACTCACGGACAGCG')+seq.index('ACTCACTGACACAGATCCACTCACGGACAGCG'):seq.index('CGCTGTCC')])\n",
    "    all_trimmed_seqs.append(trimmed_seqs)\n",
    "    all_unique_trimmed_seqs.append(list(set(trimmed_seqs)))\n",
    "\n",
    "    \n",
    "int8 = 'GACAGCTGAGAACTGAGTGGCCTAATTGGGAGAATGAGCT'\n",
    "int3e = 'GAAAGCTGCGAACCGAGCGGCCTAATTGGCAGACTGAGCT'"
   ]
  },
  {
   "cell_type": "code",
   "execution_count": 2,
   "id": "ce537499",
   "metadata": {},
   "outputs": [],
   "source": [
    "def sm(inta, intb):\n",
    "    #Where positions differ\n",
    "    pos_differ = []\n",
    "    for pos in range(len(inta)):\n",
    "        if inta[pos]!=intb[pos]:\n",
    "            pos_differ.append(pos)\n",
    "    #Single muts to make inta 1 mut closer to intb\n",
    "    muts = []\n",
    "    for pos in pos_differ:\n",
    "        muts.append(inta[:pos]+intb[pos]+inta[1+pos:])\n",
    "    return muts"
   ]
  },
  {
   "cell_type": "code",
   "execution_count": 3,
   "id": "841aab0b",
   "metadata": {},
   "outputs": [],
   "source": [
    "sms = sm(int8, int3e)\n",
    "dms = []\n",
    "for seq in sms:\n",
    "    dms+=(sm(seq, int3e))\n",
    "tms = []\n",
    "for seq in dms:\n",
    "    tms+=(sm(seq, int3e))\n",
    "qms = []\n",
    "for seq in tms:\n",
    "    qms+=(sm(seq, int3e))\n",
    "pms = []\n",
    "for seq in qms:\n",
    "    pms+=(sm(seq, int3e))\n",
    "hms = []\n",
    "for seq in pms:\n",
    "    hms+=(sm(seq, int3e))"
   ]
  },
  {
   "cell_type": "code",
   "execution_count": 4,
   "id": "525937ee",
   "metadata": {},
   "outputs": [
    {
     "name": "stdout",
     "output_type": "stream",
     "text": [
      "[]\n",
      "['GACAGCTGCGAACTGAGTGGCCTAATTGGGAGAATGAGCT']\n",
      "[]\n",
      "['GACAGCTGCGAACTGAGTGGCCTAATTGGGAGAATGAGCT', 'GACAGCTGAGAACTGAGTGGCCTAATTGGGAGACTGAGCT', 'GACAGCTGAGAACCGAGTGGCCTAATTGGGAGAATGAGCT']\n",
      "['GACAGCTGCGAACTGAGTGGCCTAATTGGGAGAATGAGCT', 'GACAGCTGAGAACTGAGTGGCCTAATTGGGAGACTGAGCT', 'GACAGCTGAGAACTGAGCGGCCTAATTGGGAGAATGAGCT']\n",
      "['GACAGCTGCGAACTGAGTGGCCTAATTGGGAGAATGAGCT', 'GACAGCTGAGAACTGAGTGGCCTAATTGGGAGACTGAGCT', 'GACAGCTGAGAACTGAGCGGCCTAATTGGGAGAATGAGCT']\n"
     ]
    }
   ],
   "source": [
    "for round in all_unique_trimmed_seqs:\n",
    "    print(list(set(sms)&set(round)))\n"
   ]
  },
  {
   "cell_type": "code",
   "execution_count": 5,
   "id": "c6a5320d",
   "metadata": {},
   "outputs": [],
   "source": [
    "all_trimmed = []\n",
    "for round in all_trimmed_seqs:\n",
    "    all_trimmed+=round\n"
   ]
  },
  {
   "cell_type": "code",
   "execution_count": 6,
   "id": "d7eaeac0",
   "metadata": {},
   "outputs": [
    {
     "name": "stdout",
     "output_type": "stream",
     "text": [
      "0\n",
      "0\n",
      "0\n",
      "1\n",
      "2\n",
      "1\n"
     ]
    }
   ],
   "source": [
    "seq ='GACAGCTGAGAACTGAGTGGCCTAATTGGGAGACTGAGCT'\n",
    "for round in all_trimmed_seqs:\n",
    "    print(round.count(seq))"
   ]
  },
  {
   "cell_type": "code",
   "execution_count": 7,
   "id": "1f9bddb7",
   "metadata": {},
   "outputs": [
    {
     "name": "stdout",
     "output_type": "stream",
     "text": [
      "0.975\n",
      "0.975\n",
      "0.975\n",
      "0.975\n",
      "0.975\n",
      "0.975\n",
      "0.975\n",
      "0.975\n",
      "0.975\n",
      "0.975\n",
      "0.975\n",
      "0.975\n",
      "0.975\n"
     ]
    }
   ],
   "source": [
    "#RS1->CS1 path\n",
    "def seqmatch(seq1,seq2):\n",
    "    overlap = 0\n",
    "    total = 0\n",
    "    for position in range(len(seq1)):\n",
    "        total+=1\n",
    "        if seq1[position]==seq2[position]:\n",
    "            overlap+=1\n",
    "    return overlap/total\n",
    "\n",
    "rs1 = 'GAATGCTGCCAACCGTGCGGGCTAATTGGCAGACTGAGCT'\n",
    "int1 = 'GAATGCTGCCAACCGAGCGGGCTAATTGGCAGACTGAGCT'\n",
    "int2 = 'GAAAGCTGCCAACCGAGCGGGCTAATTGGCAGACTGAGCT'\n",
    "int3 = 'GAAAGCTGCCAACCGAGCGGCCTAATTGGCAGACTGAGCT'\n",
    "int4 = 'GAAAGCTGCGAACCGAGCGGCCTAATTGGCAGACTGAGCT'\n",
    "int5 = 'GAAAGCTGCGAACTGAGCGGCCTAATTGGCAGACTGAGCT'\n",
    "int6 = 'GAAAGCTGCGAACTGAGCGGCCTAATTGGCAGAATGAGCT'\n",
    "int7 = 'GACAGCTGCGAACTGAGCGGCCTAATTGGCAGAATGAGCT'\n",
    "int8 = 'GACAGCTGCGAACTGAGCGGCCTAATTGGGAGAATGAGCT'\n",
    "int9 = 'GACAGCTGCGAACTGAGTGGCCTAATTGGGAGAATGAGCT'\n",
    "int10 = 'GACAGCTGAGAACTGAGTGGCCTAATTGGGAGAATGAGCT' \n",
    "int11 = 'GACAGCTGAGAACTGAGTGGCCTAAATGGGAGAATGAGCT'\n",
    "int12 = 'GACAGCCGAGAACTGAGTGGCCTAAATGGGAGAATGAGCT'\n",
    "cs1 = 'GACAGCCGAGAAATGAGTGGCCTAAATGGGAGAATGAGCT'\n",
    "\n",
    "path = [rs1, int1, int2, int3, int4, int5, int6, int7, int8, int9, int10, int11, int12, cs1]\n",
    "\n",
    "for seq in range(len(path)-1):\n",
    "    print(seqmatch(path[seq], path[seq+1]))\n",
    "\n",
    "counts = []\n",
    "for seq in path:\n",
    "    counts.append(all_trimmed.count(seq))"
   ]
  },
  {
   "cell_type": "code",
   "execution_count": 37,
   "id": "58974731",
   "metadata": {},
   "outputs": [
    {
     "data": {
      "image/png": "[encoded data removed]",
      "text/plain": [
       "<Figure size 576x360 with 2 Axes>"
      ]
     },
     "metadata": {
      "needs_background": "light"
     },
     "output_type": "display_data"
    }
   ],
   "source": [
    "#Plot the ints\n",
    "\n",
    "counts_replace_zeros = []\n",
    "for el in counts:\n",
    "    if el ==0:\n",
    "        counts_replace_zeros.append(1)\n",
    "    else:\n",
    "        counts_replace_zeros.append(el)\n",
    "counts_replace_zeros\n",
    "\n",
    "fig, ax1 = plt.subplots(figsize = (8,5))\n",
    "\n",
    "lns = []\n",
    "ax2 = ax1.twinx()\n",
    "\n",
    "lns+=ax2.plot(range(1,1+len(counts_replace_zeros)), counts_replace_zeros, color = 'b', label = 'Reads', marker = 'o')\n",
    "ax2.set_yscale('log')\n",
    "ax2.set_ylabel('Kinetics')\n",
    "ax2.yaxis.label.set_color('k')\n",
    "\n",
    "lns+=ax1.plot(range(1,1+len(counts_replace_zeros)), counts_replace_zeros, color = 'k', label = '$K_{obs}(h^{-1})$', marker = 'o')\n",
    "ax1.set_yscale('log')\n",
    "ax1.set_xlabel('Intermediate')\n",
    "ax1.set_ylabel('Counts in all Selection Rounds')\n",
    "\n",
    "ax1.yaxis.label.set_color('blue')\n",
    "\n",
    "\n",
    "\n",
    "# added these three lines\n",
    "labs = [l.get_label() for l in lns]\n",
    "ax1.legend(lns, labs, loc=0, bbox_to_anchor = (1.3,1))\n",
    "\n",
    "for i, label in enumerate(counts):\n",
    "    plt.annotate(label, (list(range(1,1+len(counts_replace_zeros)))[i]+.3, .8+counts_replace_zeros[i]))\n",
    "    \n",
    "plt.show()"
   ]
  },
  {
   "cell_type": "code",
   "execution_count": 16,
   "id": "5f198df4",
   "metadata": {},
   "outputs": [
    {
     "data": {
      "text/plain": [
       "[607, 15, 2, 0, 0, 0, 0, 1, 17, 29, 177, 61, 1304, 392015]"
      ]
     },
     "execution_count": 16,
     "metadata": {},
     "output_type": "execute_result"
    }
   ],
   "source": [
    "counts"
   ]
  },
  {
   "cell_type": "code",
   "execution_count": null,
   "id": "4c1b5992",
   "metadata": {},
   "outputs": [],
   "source": []
  }
 ],
 "metadata": {
  "kernelspec": {
   "display_name": "Python 3",
   "language": "python",
   "name": "python3"
  },
  "language_info": {
   "codemirror_mode": {
    "name": "ipython",
    "version": 3
   },
   "file_extension": ".py",
   "mimetype": "text/x-python",
   "name": "python",
   "nbconvert_exporter": "python",
   "pygments_lexer": "ipython3",
   "version": "3.8.8"
  }
 },
 "nbformat": 4,
 "nbformat_minor": 5
}
